{
 "cells": [
  {
   "cell_type": "code",
   "execution_count": 1,
   "metadata": {},
   "outputs": [],
   "source": [
    "import json\n",
    "\n",
    "with open('personality_essay_train.json', 'r') as f:\n",
    "    train_data = json.load(f)\n",
    "with open('personality_essay_val.json', 'r') as f:\n",
    "    valid_data = json.load(f)\n",
    "with open('personality_essay_test.json', 'r') as f:\n",
    "    test_data = json.load(f)"
   ]
  },
  {
   "cell_type": "code",
   "execution_count": 3,
   "metadata": {},
   "outputs": [],
   "source": [
    "all_data = train_data + valid_data + test_data"
   ]
  },
  {
   "cell_type": "code",
   "execution_count": 5,
   "metadata": {},
   "outputs": [
    {
     "data": {
      "text/plain": [
       "{'SURGENCY': -0.3333333333333333,\n",
       " 'EMOTIONAL_STABILITY': 0.041666666666666664,\n",
       " 'AGREEABLENESS': 0.4166666666666667,\n",
       " 'CONSCIENTIOUSNESS': 0.125,\n",
       " 'INTELLECT': 0.625,\n",
       " '#AUTHID': '3038980947',\n",
       " 'text': \"Hey! Nice to meet you. Here's a bit about myself. I am a bit reserved when meeting new people, but once I get to you you, we'll be good friends. According to other people, I am driven, hardworking, creative, artistic, caring, compassionate, and stubborn. I would add that I am ambitious and can sometimes come across as snobbish or cold, when in reality I am just a bit shy. Some interests of mine: I love music; it is a great passion of mine. I play violin, piano, saxophone, and I'm learning bass, and if I had my way, I'd learn every instrument I could get my hands on. I also am greatly interested in art. I love drawing, painting, animation, sculpting...anything that involves creating really. I am currently an intended Computer Science major, but depending on how things go in the coming semester, I might switch to Data Science, Operations Research, Applied Math, or something else entirely. I would also love to travel. Although I haven't been able to travel much, I plan to travel to Europe and explore every country there. In regard to myself as a roommate, I am generally easy-going. Although I would say that I sometimes don't talk to people sometimes, it's not because I'm mad at you, or don't like you or anything like that, I'm just quiet and reserved sometimes. I also love to read, play games (boardgames, sports, cards, puzzles) with my family and friends, and watch movies. \"}"
      ]
     },
     "execution_count": 5,
     "metadata": {},
     "output_type": "execute_result"
    }
   ],
   "source": [
    "all_data[0]"
   ]
  }
 ],
 "metadata": {
  "kernelspec": {
   "display_name": "pygmalion",
   "language": "python",
   "name": "python3"
  },
  "language_info": {
   "codemirror_mode": {
    "name": "ipython",
    "version": 3
   },
   "file_extension": ".py",
   "mimetype": "text/x-python",
   "name": "python",
   "nbconvert_exporter": "python",
   "pygments_lexer": "ipython3",
   "version": "3.10.14"
  }
 },
 "nbformat": 4,
 "nbformat_minor": 2
}
